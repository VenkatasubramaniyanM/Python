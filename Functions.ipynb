{
 "cells": [
  {
   "cell_type": "code",
   "execution_count": 17,
   "id": "706386fa-80be-4ef8-b9a5-a021283ac78f",
   "metadata": {},
   "outputs": [],
   "source": [
    "def Oddeven():\n",
    "    num=int(input(\"Enter the Number:\"))\n",
    "    if (num%2==0):\n",
    "        print(num,\"is the Even Number\")\n",
    "    else:\n",
    "        print(num, \"is the Odd Number\")\n"
   ]
  },
  {
   "cell_type": "code",
   "execution_count": 19,
   "id": "6e7a2f07-75cb-4505-84be-9141fa8b7d01",
   "metadata": {},
   "outputs": [
    {
     "name": "stdin",
     "output_type": "stream",
     "text": [
      "Enter the Number: 52452\n"
     ]
    },
    {
     "name": "stdout",
     "output_type": "stream",
     "text": [
      "52452 is the Even Number\n"
     ]
    }
   ],
   "source": [
    "Oddeven()"
   ]
  },
  {
   "cell_type": "code",
   "execution_count": 21,
   "id": "52a1fe2e-8fa9-43d4-b2f7-58f16665da72",
   "metadata": {},
   "outputs": [],
   "source": [
    "def Eligible():\n",
    "    Gender=input(\"Gender Name:\")\n",
    "    Age=int(input(\"Age:\"))\n",
    "    if(Gender==\"Male\" and Age>=21):\n",
    "        print(\"ELIGIBLE\")\n",
    "    elif(Gender==\"Female\" and Age>=18):\n",
    "        print(\"ELIGIBLE\")\n",
    "    else:\n",
    "        print(\"NOT ELIGIBLE\")\n",
    "    "
   ]
  },
  {
   "cell_type": "code",
   "execution_count": 23,
   "id": "806816a8-90af-47b6-8268-3d2bb031b8f6",
   "metadata": {},
   "outputs": [
    {
     "name": "stdin",
     "output_type": "stream",
     "text": [
      "Gender Name: Male\n",
      "Age: 20\n"
     ]
    },
    {
     "name": "stdout",
     "output_type": "stream",
     "text": [
      "NOT ELIGIBLE\n"
     ]
    }
   ],
   "source": [
    "Eligible()"
   ]
  },
  {
   "cell_type": "code",
   "execution_count": 25,
   "id": "2eb63bbb-77e1-4bf4-9546-b7532c70e1c2",
   "metadata": {},
   "outputs": [],
   "source": [
    "def subfields():\n",
    "    word=['Sub-fields in AI are:','Machine Learning','Neural Networks','Vision','Robotics','Speech Processing','Natural Language Processing']\n",
    "    for i in word:\n",
    "        print(i)"
   ]
  },
  {
   "cell_type": "code",
   "execution_count": 27,
   "id": "862e7477-57e2-4d53-b7b4-b2411d14b020",
   "metadata": {},
   "outputs": [
    {
     "name": "stdout",
     "output_type": "stream",
     "text": [
      "Sub-fields in AI are:\n",
      "Machine Learning\n",
      "Neural Networks\n",
      "Vision\n",
      "Robotics\n",
      "Speech Processing\n",
      "Natural Language Processing\n"
     ]
    }
   ],
   "source": [
    "subfields()"
   ]
  },
  {
   "cell_type": "code",
   "execution_count": 29,
   "id": "6d0bd314-4830-4fdc-bf19-25dffc22f13c",
   "metadata": {},
   "outputs": [],
   "source": [
    "def percentage():\n",
    "   subject1=int(input(\"subject1:\"))\n",
    "   subject2=int(input(\"subject2:\"))\n",
    "   subject3=int(input(\"subject3:\"))\n",
    "   subject4=int(input(\"subject4:\"))\n",
    "   subject5=int(input(\"subject5:\"))\n",
    "   total=subject1 + subject2 + subject3 + subject4 + subject5\n",
    "   print(\"total=\",total)\n",
    "   Percentage=total/5\n",
    "   print(\"Percentage=\",Percentage)\n"
   ]
  },
  {
   "cell_type": "code",
   "execution_count": 31,
   "id": "28a26378-747c-464c-a1a3-2134386bb404",
   "metadata": {},
   "outputs": [
    {
     "name": "stdin",
     "output_type": "stream",
     "text": [
      "subject1: 98\n",
      "subject2: 87\n",
      "subject3: 95\n",
      "subject4: 95\n",
      "subject5: 93\n"
     ]
    },
    {
     "name": "stdout",
     "output_type": "stream",
     "text": [
      "total= 468\n",
      "Percentage= 93.6\n"
     ]
    }
   ],
   "source": [
    "percentage()"
   ]
  },
  {
   "cell_type": "code",
   "execution_count": 5,
   "id": "9b20984a-7bb1-4063-8832-8fa1f63ce7a1",
   "metadata": {},
   "outputs": [],
   "source": [
    "def traingle():\n",
    "    value=int(input(\"Height:\"))\n",
    "    value=int(input(\"Breadth:\"))\n",
    "    formula=(Height*Breadth)/2\n",
    "    print(\"Area formula:\",formula)\n",
    "\n"
   ]
  },
  {
   "cell_type": "code",
   "execution_count": 13,
   "id": "722e5511-021d-43c2-a313-bd05e0c05836",
   "metadata": {},
   "outputs": [],
   "source": [
    "def traingle():\n",
    "    Height=int(input(\"Height:\"))\n",
    "    Breadth=int(input(\"Breadth\"))\n",
    "    areaoftraingle=(Height*Breadth)/2\n",
    "    print(\"Area of formula: (Height*Breadth)/2\")\n",
    "    print(\"Area of Traingle:\",areaoftraingle)\n",
    "    Height1=int(input(\"Height1:\"))\n",
    "    Height2=int(input(\"Height2:\"))\n",
    "    Height3=int(input(\"Height3:\"))\n",
    "    perimeteroftraingle=Height1+Height2+Height3\n",
    "    print(\"perimeter of formula: Height1+Height2+Height3\")\n",
    "    print(\"perimeter of traingle:\",perimeteroftraingle)"
   ]
  },
  {
   "cell_type": "code",
   "execution_count": 15,
   "id": "ec975d2e-daaa-44ef-aed9-3325bd93fa7e",
   "metadata": {},
   "outputs": [
    {
     "name": "stdin",
     "output_type": "stream",
     "text": [
      "Height: 32\n",
      "Breadth 34\n"
     ]
    },
    {
     "name": "stdout",
     "output_type": "stream",
     "text": [
      "Area of formula: (Height*Breadth)/2\n",
      "Area of Traingle: 544.0\n"
     ]
    },
    {
     "name": "stdin",
     "output_type": "stream",
     "text": [
      "Height1: 2\n",
      "Height2: 4\n",
      "Height3: 4\n"
     ]
    },
    {
     "name": "stdout",
     "output_type": "stream",
     "text": [
      "perimeter of formula: Height1+Height2+Height3\n",
      "perimeter of traingle: 10\n"
     ]
    }
   ],
   "source": [
    "traingle()"
   ]
  },
  {
   "cell_type": "code",
   "execution_count": null,
   "id": "ccce0b63-b1a1-4f12-8b41-bb0e312cf884",
   "metadata": {},
   "outputs": [],
   "source": []
  }
 ],
 "metadata": {
  "kernelspec": {
   "display_name": "Python [conda env:base] *",
   "language": "python",
   "name": "conda-base-py"
  },
  "language_info": {
   "codemirror_mode": {
    "name": "ipython",
    "version": 3
   },
   "file_extension": ".py",
   "mimetype": "text/x-python",
   "name": "python",
   "nbconvert_exporter": "python",
   "pygments_lexer": "ipython3",
   "version": "3.12.7"
  }
 },
 "nbformat": 4,
 "nbformat_minor": 5
}
