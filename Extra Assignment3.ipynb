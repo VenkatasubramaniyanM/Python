{
 "cells": [
  {
   "cell_type": "code",
   "execution_count": 1,
   "id": "07fc97b0-ec77-480f-997c-78f553f82769",
   "metadata": {},
   "outputs": [
    {
     "name": "stdin",
     "output_type": "stream",
     "text": [
      "Value- 10\n"
     ]
    },
    {
     "name": "stdout",
     "output_type": "stream",
     "text": [
      "Correct\n"
     ]
    }
   ],
   "source": [
    "num=int(input(\"Value-\"))\n",
    "if num==10:\n",
    "    print(\"Correct\")"
   ]
  },
  {
   "cell_type": "code",
   "execution_count": 13,
   "id": "0f268835-acbe-46b1-83e1-77fa2dda5e16",
   "metadata": {},
   "outputs": [
    {
     "name": "stdin",
     "output_type": "stream",
     "text": [
      " Enter the password hope@123\n"
     ]
    },
    {
     "name": "stdout",
     "output_type": "stream",
     "text": [
      "Correct\n"
     ]
    }
   ],
   "source": [
    "password=input(\" Enter the password\")\n",
    "if password==\"hope@123\":\n",
    "    print(\"Correct\")"
   ]
  },
  {
   "cell_type": "code",
   "execution_count": 25,
   "id": "685fb5c5-fc94-4cd6-8c2d-d1fa739378ab",
   "metadata": {},
   "outputs": [
    {
     "name": "stdin",
     "output_type": "stream",
     "text": [
      "age- 54\n"
     ]
    },
    {
     "name": "stdout",
     "output_type": "stream",
     "text": [
      "Citizen\n"
     ]
    }
   ],
   "source": [
    "age=int(input(\"age-\"))\n",
    "if (age<=20):\n",
    "    print(\"Children\")\n",
    "elif(age<=35):\n",
    "    print(\"Adult\")\n",
    "elif(age<=55):\n",
    "    print(\"Citizen\")\n",
    "else:\n",
    "    print(\"Senior Citizen\")\n"
   ]
  },
  {
   "cell_type": "code",
   "execution_count": 33,
   "id": "d60f9113-e826-42cc-8345-d90cb2990495",
   "metadata": {},
   "outputs": [
    {
     "name": "stdin",
     "output_type": "stream",
     "text": [
      "Enter the number- 3\n"
     ]
    },
    {
     "name": "stdout",
     "output_type": "stream",
     "text": [
      "No is Positive\n"
     ]
    }
   ],
   "source": [
    "num=int(input(\"Enter the number-\"))\n",
    "if (num<10):\n",
    "    print(\"No is Positive\")\n",
    "else:\n",
    "    print(\"No is Negative\")"
   ]
  },
  {
   "cell_type": "code",
   "execution_count": 53,
   "id": "7cfb8542-51bc-4525-a422-30a25366e4b4",
   "metadata": {},
   "outputs": [
    {
     "name": "stdin",
     "output_type": "stream",
     "text": [
      "Enter a number to check- 99\n"
     ]
    },
    {
     "name": "stdout",
     "output_type": "stream",
     "text": [
      "Num not Divisble\n"
     ]
    }
   ],
   "source": [
    "num=int(input(\"Enter a number to check-\"))\n",
    "if (num%5):\n",
    "    print(\"Num not Divisble\")"
   ]
  },
  {
   "cell_type": "code",
   "execution_count": null,
   "id": "17dea2d4-b028-49d2-ab3e-fd308756c002",
   "metadata": {},
   "outputs": [],
   "source": []
  }
 ],
 "metadata": {
  "kernelspec": {
   "display_name": "Python [conda env:base] *",
   "language": "python",
   "name": "conda-base-py"
  },
  "language_info": {
   "codemirror_mode": {
    "name": "ipython",
    "version": 3
   },
   "file_extension": ".py",
   "mimetype": "text/x-python",
   "name": "python",
   "nbconvert_exporter": "python",
   "pygments_lexer": "ipython3",
   "version": "3.12.7"
  }
 },
 "nbformat": 4,
 "nbformat_minor": 5
}
